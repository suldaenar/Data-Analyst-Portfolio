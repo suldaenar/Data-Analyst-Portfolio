{
 "cells": [
  {
   "cell_type": "code",
   "execution_count": 10,
   "metadata": {},
   "outputs": [],
   "source": [
    "import dash\n",
    "from dash import Dash, dcc, html\n",
    "from dash.dependencies import Input, Output\n",
    "from dash.exceptions import PreventUpdate\n",
    "from jupyter_dash import JupyterDash\n",
    "import pandas as pd\n",
    "import plotly.graph_objects as go\n",
    "import plotly.express as px\n",
    "import seaborn as sns\n",
    "import pandas as pd\n",
    "import numpy as np\n",
    "import sys\n",
    "\n",
    "np.set_printoptions(threshold=sys.maxsize)\n"
   ]
  },
  {
   "cell_type": "code",
   "execution_count": null,
   "metadata": {},
   "outputs": [],
   "source": [
    "data = pd.read_csv(\"NY-House-Dataset.csv\")\n",
    "data.head(100)"
   ]
  },
  {
   "cell_type": "code",
   "execution_count": null,
   "metadata": {},
   "outputs": [
    {
     "data": {
      "text/plain": [
       "BROKERTITLE                     object\n",
       "TYPE                            object\n",
       "PRICE                            int64\n",
       "BEDS                             int64\n",
       "BATH                           float64\n",
       "PROPERTYSQFT                   float64\n",
       "ADDRESS                         object\n",
       "STATE                           object\n",
       "MAIN_ADDRESS                    object\n",
       "ADMINISTRATIVE_AREA_LEVEL_2     object\n",
       "LOCALITY                        object\n",
       "SUBLOCALITY                     object\n",
       "STREET_NAME                     object\n",
       "LONG_NAME                       object\n",
       "FORMATTED_ADDRESS               object\n",
       "LATITUDE                       float64\n",
       "LONGITUDE                      float64\n",
       "dtype: object"
      ]
     },
     "execution_count": 12,
     "metadata": {},
     "output_type": "execute_result"
    }
   ],
   "source": [
    "data.info()"
   ]
  },
  {
   "cell_type": "markdown",
   "metadata": {},
   "source": [
    "* BROKERTITLE: Title of the broker\n",
    "* TYPE: Type of the house\n",
    "* PRICE: Price of the house\n",
    "* BEDS: Number of bedrooms\n",
    "* BATH: Number of bathrooms\n",
    "* PROPERTYSQFT: Square footage of the property\n",
    "* ADDRESS: Full address of the house\n",
    "* STATE: State of the house\n",
    "* MAIN_ADDRESS: Main address information\n",
    "* ADMINISTRATIVE_AREA_LEVEL_2: Administrative area level 2 information\n",
    "* LOCALITY: Locality information\n",
    "* SUBLOCALITY: Sublocality information\n",
    "* STREET_NAME: Street name\n",
    "* LONG_NAME: Long name\n",
    "* FORMATTED_ADDRESS: Formatted address\n",
    "* LATITUDE: Latitude coordinate of the house\n",
    "* LONGITUDE: Longitude coordinate of the house"
   ]
  },
  {
   "cell_type": "code",
   "execution_count": null,
   "metadata": {},
   "outputs": [],
   "source": [
    "data[\"BROKERTITLE\"].unique()\n",
    "data[\"TYPE\"].unique()\n",
    "data[\"PRICE\"].unique()\n",
    "data[\"BEDS\"].unique()\n",
    "data[\"BATH\"].unique()\n",
    "data[\"PROPERTYSQFT\"].unique()\n",
    "data[\"ADDRESS\"].unique()\n",
    "data[\"STATE\"].unique()\n",
    "data[\"MAIN_ADDRESS\"].unique()\n",
    "data[\"ADMINISTRATIVE_AREA_LEVEL_2\"].unique()\n",
    "data[\"LOCALITY\"].unique()\n",
    "data[\"SUBLOCALITY\"].unique()\n",
    "data[\"STREET_NAME\"].unique()\n",
    "data[\"LONG_NAME\"].unique()\n",
    "# data[\"FORMATTED_ADDRESS\"].unique()\n",
    "# data[\"LATITUDE\"].unique()\n",
    "# data[\"LONGITUDE\"].unique()\n"
   ]
  },
  {
   "cell_type": "code",
   "execution_count": 14,
   "metadata": {},
   "outputs": [],
   "source": [
    "datax = data.copy()"
   ]
  },
  {
   "cell_type": "markdown",
   "metadata": {},
   "source": [
    "### column BROKERTITLE:\n",
    "\n",
    "1. delete all 'Brokered by'\n",
    "2. delete leading and trailing whitespaces\n"
   ]
  },
  {
   "cell_type": "code",
   "execution_count": 15,
   "metadata": {},
   "outputs": [],
   "source": [
    "datax['BROKERTITLE1'] = datax['BROKERTITLE'].str.replace('Brokered by ', \"\").str.strip()\n"
   ]
  },
  {
   "cell_type": "markdown",
   "metadata": {},
   "source": [
    "### column TYPE:\n",
    "\n",
    "https://www.manhattanmiami.com/resources/home-buying-guide/co-op-vs-condo"
   ]
  },
  {
   "cell_type": "markdown",
   "metadata": {},
   "source": [
    "### columns BATH, PROPERTYSQFT:\n",
    "\n",
    "strange value = 2.37386086  ??? rounded!\n",
    "in csv = 2.3738608579684373\n"
   ]
  },
  {
   "cell_type": "code",
   "execution_count": null,
   "metadata": {},
   "outputs": [],
   "source": [
    "datax.loc[datax['BATH'] == 2.3738608579684373, :]\n"
   ]
  },
  {
   "cell_type": "code",
   "execution_count": 17,
   "metadata": {},
   "outputs": [],
   "source": [
    "datax['BATH1'] = datax['BATH'].astype('int64')"
   ]
  },
  {
   "cell_type": "code",
   "execution_count": 18,
   "metadata": {},
   "outputs": [
    {
     "data": {
      "text/plain": [
       "array([ 2, 10,  1, 16,  3,  4,  6,  8,  5,  9,  7, 32, 13, 50, 20, 11, 12,\n",
       "       24, 43,  0, 17])"
      ]
     },
     "execution_count": 18,
     "metadata": {},
     "output_type": "execute_result"
    }
   ],
   "source": [
    "datax['BATH1'].unique()"
   ]
  },
  {
   "cell_type": "code",
   "execution_count": null,
   "metadata": {},
   "outputs": [],
   "source": [
    "datax.loc[datax['PROPERTYSQFT'] == 2184.207862, :]"
   ]
  },
  {
   "cell_type": "code",
   "execution_count": null,
   "metadata": {},
   "outputs": [],
   "source": [
    "datax['PROPERTYSQFT1'] = datax['PROPERTYSQFT'].astype('int64')\n",
    "datax['PROPERTYSQFT1'].unique()"
   ]
  },
  {
   "cell_type": "markdown",
   "metadata": {},
   "source": [
    "### column ADDRESS, STATE, MAIN_ADDRESS:"
   ]
  },
  {
   "cell_type": "code",
   "execution_count": 21,
   "metadata": {},
   "outputs": [],
   "source": [
    "datax['ADDRESS1'] = datax['ADDRESS'].str.strip()\n",
    "datax['STATE1'] = datax['STATE'].str.strip()\n",
    "datax['MAIN_ADDRESS1'] = datax['MAIN_ADDRESS'].str.strip()"
   ]
  },
  {
   "cell_type": "markdown",
   "metadata": {},
   "source": [
    "### columns of location hierarchy:\n",
    "\n",
    "\n",
    "* ZIP - using regex formula to extract zip code from 'FORMATTED_ADDRESS' column\n",
    "\n",
    "* COUNTY, CITY - using zipcodes module to extract counties/cities from it (using for loop to change each result for each zip code from list of dictionaries to a dictionary and make a column by list.append(dict.get('key')))\n",
    "\n",
    "* STREET_NAME - using column FORMATTED_ADDRESS to extract names of streets (using package 'usaddress', I have also tried to use geopy.geocoders - Nominatim based on lat and long, but it is inapplicable due to amount of rows)\n",
    "\n",
    "* delete ['ADMINISTRATIVE_AREA_LEVEL_2', 'LOCALITY', 'SUBLOCALITY'] = inconsistent, and replace them by new columns "
   ]
  },
  {
   "cell_type": "markdown",
   "metadata": {},
   "source": [
    "United States is structured as follows: Admin 0 - Nation, Admin 1 States along with Federal District (DC), Admin 2 - Counties & Independent Cities, etc."
   ]
  },
  {
   "cell_type": "code",
   "execution_count": 22,
   "metadata": {},
   "outputs": [
    {
     "name": "stdout",
     "output_type": "stream",
     "text": [
      "Requirement already satisfied: zipcodes in /Users/hanavelebova/dash plotly/.venv/lib/python3.11/site-packages (1.2.0)\n"
     ]
    }
   ],
   "source": [
    "! pip install zipcodes\n"
   ]
  },
  {
   "cell_type": "code",
   "execution_count": 23,
   "metadata": {},
   "outputs": [
    {
     "name": "stdout",
     "output_type": "stream",
     "text": [
      "[{'zip_code': '11214', 'zip_code_type': 'STANDARD', 'active': True, 'city': 'Brooklyn', 'acceptable_cities': [], 'unacceptable_cities': [], 'state': 'NY', 'county': 'Kings County', 'timezone': 'America/New_York', 'area_codes': ['718'], 'world_region': 'NA', 'country': 'US', 'lat': '40.5977', 'long': '-74.0010'}]\n"
     ]
    }
   ],
   "source": [
    "import zipcodes\n",
    "print(zipcodes.matching('11214'))"
   ]
  },
  {
   "cell_type": "code",
   "execution_count": 24,
   "metadata": {},
   "outputs": [],
   "source": [
    "omg = zipcodes.matching('11214')\n"
   ]
  },
  {
   "cell_type": "code",
   "execution_count": 25,
   "metadata": {},
   "outputs": [
    {
     "data": {
      "text/plain": [
       "list"
      ]
     },
     "execution_count": 25,
     "metadata": {},
     "output_type": "execute_result"
    }
   ],
   "source": [
    "type(omg) # omg is a list of dictionaries"
   ]
  },
  {
   "cell_type": "code",
   "execution_count": 26,
   "metadata": {},
   "outputs": [],
   "source": [
    "import re\n",
    "datax['ZIP'] = datax['FORMATTED_ADDRESS'].str.extract('(?<=NY )(.*?)(?=, USA)', expand=True)\n"
   ]
  },
  {
   "cell_type": "code",
   "execution_count": 29,
   "metadata": {},
   "outputs": [],
   "source": [
    "county = []\n",
    "\n",
    "for value in datax[\"ZIP\"]:\n",
    "    dict = {}\n",
    "    for i in zipcodes.matching(value):\n",
    "        dict.update(i)\n",
    "    county.append(dict.get('county'))\n",
    "\n",
    "datax['COUNTY'] = county"
   ]
  },
  {
   "cell_type": "code",
   "execution_count": 32,
   "metadata": {},
   "outputs": [],
   "source": [
    "city = []\n",
    "\n",
    "for value in datax[\"ZIP\"]:\n",
    "    dict1 = {}\n",
    "    for i in zipcodes.matching(value):\n",
    "        dict1.update(i)\n",
    "    city.append(dict1.get('city'))\n",
    "\n",
    "datax['CITY'] = city"
   ]
  },
  {
   "cell_type": "code",
   "execution_count": 37,
   "metadata": {},
   "outputs": [],
   "source": [
    "datax.drop(['ADMINISTRATIVE_AREA_LEVEL_2', 'LOCALITY', 'SUBLOCALITY'], inplace=True, axis=1)\n",
    "# datax.drop(['BROKERTITLE', 'BATH', 'PROPERTYSQFT', 'ADDRESS', 'STATE', 'MAIN_ADDRESS'], inplace=True, axis=1)"
   ]
  },
  {
   "cell_type": "code",
   "execution_count": 40,
   "metadata": {},
   "outputs": [
    {
     "name": "stdout",
     "output_type": "stream",
     "text": [
      "Requirement already satisfied: geopy in /Users/hanavelebova/dash plotly/.venv/lib/python3.11/site-packages (2.4.1)\n",
      "Requirement already satisfied: geographiclib<3,>=1.52 in /Users/hanavelebova/dash plotly/.venv/lib/python3.11/site-packages (from geopy) (2.0)\n"
     ]
    }
   ],
   "source": [
    "# ! pip install geopy"
   ]
  },
  {
   "cell_type": "code",
   "execution_count": 46,
   "metadata": {},
   "outputs": [
    {
     "name": "stdout",
     "output_type": "stream",
     "text": [
      "Astor Court, 2, East 55th Street, Manhattan Community Board 5, Manhattan, New York County, City of New York, New York, 10022, United States\n"
     ]
    }
   ],
   "source": [
    "# from geopy.geocoders import Nominatim\n",
    "# from pprint import pprint\n",
    "\n",
    "# # Instantiate a new Nominatim client\n",
    "# geolocator = Nominatim(user_agent=\"NY_address\")\n",
    "\n",
    "# # Get location raw data from the user\n",
    "\n",
    "# location = geolocator.reverse(\"40.761255, -73.974483\")\n",
    "# print(location.address)"
   ]
  },
  {
   "cell_type": "code",
   "execution_count": 47,
   "metadata": {},
   "outputs": [],
   "source": [
    "# datax['COORDINATES'] = datax['LATITUDE'].astype(str) + ', ' + datax['LONGITUDE'].astype(str)"
   ]
  },
  {
   "cell_type": "code",
   "execution_count": 125,
   "metadata": {},
   "outputs": [],
   "source": [
    "# addressLL = []\n",
    "\n",
    "# for value in datax['COORDINATES']:\n",
    "#     geolocator = Nominatim(user_agent=\"NY_address\")\n",
    "#     location = geolocator.reverse(value)\n",
    "#     addressLL.append(location.address)\n",
    "\n",
    "# datax.drop('COORDINATES', inplace=True, axis=1)"
   ]
  },
  {
   "cell_type": "code",
   "execution_count": null,
   "metadata": {},
   "outputs": [],
   "source": [
    "! pip install usaddress"
   ]
  },
  {
   "cell_type": "code",
   "execution_count": 66,
   "metadata": {},
   "outputs": [],
   "source": [
    "import usaddress"
   ]
  },
  {
   "cell_type": "code",
   "execution_count": 98,
   "metadata": {},
   "outputs": [
    {
     "name": "stdout",
     "output_type": "stream",
     "text": [
      "[('217', 'AddressNumber'), ('W', 'StreetNamePreDirectional'), ('57th', 'StreetName'), ('St,', 'StreetNamePostType'), ('New', 'PlaceName'), ('York,', 'PlaceName'), ('NY', 'StateName'), ('10019,', 'ZipCode'), ('USA', 'CountryName')]\n",
      "57th St,\n"
     ]
    }
   ],
   "source": [
    "# addr='217 W 57th St, New York, NY 10019, USA'\n",
    "# test = usaddress.parse(addr)\n",
    "# print(test)\n",
    "# # test2 = dict(test)\n",
    "# # print(test2)\n",
    "# result1 = [item for item in test if item[1] == 'StreetName']\n",
    "# result2 = [item for item in test if item[1] == 'StreetNamePostType']\n",
    "# print(result1[0][0]  + ' ' + result2[0][0])"
   ]
  },
  {
   "cell_type": "code",
   "execution_count": 338,
   "metadata": {},
   "outputs": [],
   "source": [
    "# street_name = []\n",
    "\n",
    "# for value in datax['ADDRESS1']:\n",
    "#     try:\n",
    "#         res1 = [item for item in usaddress.parse(value) if item[1] == 'StreetName']\n",
    "#         res2 = [item for item in usaddress.parse(value) if item[1] == 'StreetNamePostType']\n",
    "#         street_name.append(res1[0][0] + ' ' + res2[0][0])\n",
    "\n",
    "#     except IndexError as e:\n",
    "#             street_name.append('NaN')\n",
    "\n",
    "# datax['STR_NAME'] = street_name\n",
    "\n",
    "# datax.drop('STREET_NAME', inplace=True, axis=1)\n",
    "# datax.drop('LONG_NAME', inplace=True, axis=1)"
   ]
  },
  {
   "cell_type": "code",
   "execution_count": 194,
   "metadata": {},
   "outputs": [],
   "source": [
    "# datax['STR_NAME2'] = datax['STR_NAME'].str.replace(r\"\\W\", \" \", regex=True).str.strip()"
   ]
  },
  {
   "cell_type": "code",
   "execution_count": 459,
   "metadata": {},
   "outputs": [],
   "source": [
    "test = []\n",
    "for value in datax['FORMATTED_ADDRESS']:\n",
    "    try:\n",
    "        res1 = [item for item in usaddress.parse(value) if item[1] == 'StreetName']\n",
    "        res2 = [item for item in usaddress.parse(value) if item[1] == 'StreetNamePostType']\n",
    "        test.append(res1[0][0] + ' ' + res2[0][0])\n",
    "    except IndexError:\n",
    "        if 'Avenue'in value:\n",
    "            test.append(re.findall(r\"(Avenue\\s.)\", value)[0])\n",
    "        elif 'Broadway' in value:\n",
    "            test.append('Broadway')\n",
    "        elif '55th St' in value:\n",
    "            test.append('55th St') \n",
    "        elif 'Central Park' in value:\n",
    "            test.append(re.findall(r\"(Central Park\\s.)\", value)[0])\n",
    "        elif 'Prospect Park W' in value:\n",
    "            test.append('Prospect Park W')\n",
    "        elif 'Tudor City' in value:\n",
    "            test.append('Tudor City Pl')\n",
    "        elif 'South St' in value:\n",
    "            test.append('South St')\n",
    "        elif '164th Dr' in value:\n",
    "            test.append('164th Dr')\n",
    "        elif 'Ocean Promenade' in value:\n",
    "            test.append('Ocean Promenade')\n",
    "        elif 'Fifth Ave' in value:\n",
    "            test.append('Fifth Ave')\n",
    "        elif 'Bowery' in value:\n",
    "            test.append('Bowery')\n",
    "        elif 'Grand Concourse' in value:\n",
    "            test.append('Grand Concourse')\n",
    "        elif 'Morris Park W' in value:            \n",
    "            test.append('Morris Park W')\n",
    "        elif 'First Ave' in value:\n",
    "            test.append('First Ave')\n",
    "        elif 'Court Sq W' in value:\n",
    "            test.append('Court Sq W')\n",
    "        elif 'Northside Piers' in value:\n",
    "            test.append('Northside Piers')\n",
    "        elif 'Alden Park' in value:\n",
    "            test.append('Alden Park')\n",
    "        elif 'Hudson Yards' in value:\n",
    "            test.append('Hudson Yards')\n",
    "        elif 'Ave W' in value:\n",
    "            test.append('Avenue W')\n",
    "        elif 'Gramercy Park S' in value:\n",
    "            test.append('Gramercy Park S')\n",
    "        elif 'Ave V' in value:\n",
    "            test.append('Avenue V')\n",
    "        elif 'Ave Y' in value:\n",
    "            test.append('Avenue Y')\n",
    "        elif 'Ave. S' in value:\n",
    "            test.append('Avenue S')\n",
    "        elif '5th Ave' in value:\n",
    "            test.append('5th Avenue')\n",
    "        elif 'Ocean Prom' in value:\n",
    "            test.append('Ocean Promenade')\n",
    "        elif '1st Ave' in value:\n",
    "            test.append('1st Avenue')\n",
    "        elif 'Ct Square W' in value:\n",
    "            test.append('Court Square W')\n",
    "        elif 'Gramercy Pk S' in value:\n",
    "            test.append('Gramercy Park S')\n",
    "        else:\n",
    "            test.append('NaN')\n",
    "\n",
    "datax['TEST'] = test\n",
    "\n"
   ]
  },
  {
   "cell_type": "code",
   "execution_count": null,
   "metadata": {},
   "outputs": [],
   "source": [
    "datax['STR_NAME'] = datax['TEST'].str.replace(r\"\\W\", \" \", regex=True).str.strip()"
   ]
  },
  {
   "cell_type": "code",
   "execution_count": 463,
   "metadata": {},
   "outputs": [],
   "source": [
    "datax.drop('TEST', inplace=True, axis=1)"
   ]
  },
  {
   "cell_type": "code",
   "execution_count": 483,
   "metadata": {},
   "outputs": [
    {
     "data": {
      "text/html": [
       "<div>\n",
       "<style scoped>\n",
       "    .dataframe tbody tr th:only-of-type {\n",
       "        vertical-align: middle;\n",
       "    }\n",
       "\n",
       "    .dataframe tbody tr th {\n",
       "        vertical-align: top;\n",
       "    }\n",
       "\n",
       "    .dataframe thead th {\n",
       "        text-align: right;\n",
       "    }\n",
       "</style>\n",
       "<table border=\"1\" class=\"dataframe\">\n",
       "  <thead>\n",
       "    <tr style=\"text-align: right;\">\n",
       "      <th></th>\n",
       "      <th>TYPE</th>\n",
       "      <th>PRICE</th>\n",
       "      <th>BEDS</th>\n",
       "      <th>FORMATTED_ADDRESS</th>\n",
       "      <th>LATITUDE</th>\n",
       "      <th>LONGITUDE</th>\n",
       "      <th>BROKERTITLE</th>\n",
       "      <th>BATH</th>\n",
       "      <th>PROPERTYSQFT</th>\n",
       "      <th>ADDRESS</th>\n",
       "      <th>STATE</th>\n",
       "      <th>MAIN_ADDRESS</th>\n",
       "      <th>ZIP</th>\n",
       "      <th>COUNTY</th>\n",
       "      <th>CITY</th>\n",
       "      <th>STR_NAME</th>\n",
       "    </tr>\n",
       "  </thead>\n",
       "  <tbody>\n",
       "  </tbody>\n",
       "</table>\n",
       "</div>"
      ],
      "text/plain": [
       "Empty DataFrame\n",
       "Columns: [TYPE, PRICE, BEDS, FORMATTED_ADDRESS, LATITUDE, LONGITUDE, BROKERTITLE, BATH, PROPERTYSQFT, ADDRESS, STATE, MAIN_ADDRESS, ZIP, COUNTY, CITY, STR_NAME]\n",
       "Index: []"
      ]
     },
     "execution_count": 483,
     "metadata": {},
     "output_type": "execute_result"
    }
   ],
   "source": [
    "datax.loc[datax['STR_NAME'] == 'NaN', :]"
   ]
  },
  {
   "cell_type": "markdown",
   "metadata": {},
   "source": [
    "### Change column names and sort them properly"
   ]
  },
  {
   "cell_type": "code",
   "execution_count": 481,
   "metadata": {},
   "outputs": [],
   "source": [
    "# datax.columns.tolist()\n",
    "\n",
    "# datax.rename(columns = {'BROKERTITLE1': 'BROKERTITLE',\n",
    "#                         'BATH1': 'BATH',\n",
    "#                         'PROPERTYSQFT1': 'PROPERTYSQFT',\n",
    "#                         'ADDRESS1': 'ADDRESS',\n",
    "#                         'STATE1': 'STATE',\n",
    "#                         'MAIN_ADDRESS1': 'MAIN_ADDRESS'}, \n",
    "#                         inplace = True)\n",
    "\n",
    "new_cols = ['BROKERTITLE', \n",
    "            'TYPE',\n",
    "            'PRICE',\n",
    "            'BEDS',\n",
    "            'BATH',\n",
    "            'PROPERTYSQFT',\n",
    "            'ADDRESS',\n",
    "            'MAIN_ADDRESS',\n",
    "            'FORMATTED_ADDRESS',\n",
    "            'STATE',\n",
    "            'ZIP',\n",
    "            'COUNTY',\n",
    "            'CITY',\n",
    "            'STR_NAME',\n",
    "            'LATITUDE',\n",
    "            'LONGITUDE']\n",
    "\n",
    "data_cl = datax[new_cols]\n"
   ]
  },
  {
   "cell_type": "code",
   "execution_count": 482,
   "metadata": {},
   "outputs": [
    {
     "data": {
      "text/html": [
       "<div>\n",
       "<style scoped>\n",
       "    .dataframe tbody tr th:only-of-type {\n",
       "        vertical-align: middle;\n",
       "    }\n",
       "\n",
       "    .dataframe tbody tr th {\n",
       "        vertical-align: top;\n",
       "    }\n",
       "\n",
       "    .dataframe thead th {\n",
       "        text-align: right;\n",
       "    }\n",
       "</style>\n",
       "<table border=\"1\" class=\"dataframe\">\n",
       "  <thead>\n",
       "    <tr style=\"text-align: right;\">\n",
       "      <th></th>\n",
       "      <th>BROKERTITLE</th>\n",
       "      <th>TYPE</th>\n",
       "      <th>PRICE</th>\n",
       "      <th>BEDS</th>\n",
       "      <th>BATH</th>\n",
       "      <th>PROPERTYSQFT</th>\n",
       "      <th>ADDRESS</th>\n",
       "      <th>MAIN_ADDRESS</th>\n",
       "      <th>FORMATTED_ADDRESS</th>\n",
       "      <th>STATE</th>\n",
       "      <th>ZIP</th>\n",
       "      <th>COUNTY</th>\n",
       "      <th>CITY</th>\n",
       "      <th>STR_NAME</th>\n",
       "      <th>LATITUDE</th>\n",
       "      <th>LONGITUDE</th>\n",
       "    </tr>\n",
       "  </thead>\n",
       "  <tbody>\n",
       "    <tr>\n",
       "      <th>0</th>\n",
       "      <td>Douglas Elliman  -111 Fifth Ave</td>\n",
       "      <td>Condo for sale</td>\n",
       "      <td>315000</td>\n",
       "      <td>2</td>\n",
       "      <td>2</td>\n",
       "      <td>1400</td>\n",
       "      <td>2 E 55th St Unit 803</td>\n",
       "      <td>2 E 55th St Unit 803New York, NY 10022</td>\n",
       "      <td>Regis Residence, 2 E 55th St #803, New York, N...</td>\n",
       "      <td>New York, NY 10022</td>\n",
       "      <td>10022</td>\n",
       "      <td>New York County</td>\n",
       "      <td>New York</td>\n",
       "      <td>55th St</td>\n",
       "      <td>40.761255</td>\n",
       "      <td>-73.974483</td>\n",
       "    </tr>\n",
       "    <tr>\n",
       "      <th>1</th>\n",
       "      <td>Serhant</td>\n",
       "      <td>Condo for sale</td>\n",
       "      <td>195000000</td>\n",
       "      <td>7</td>\n",
       "      <td>10</td>\n",
       "      <td>17545</td>\n",
       "      <td>Central Park Tower Penthouse-217 W 57th New Yo...</td>\n",
       "      <td>Central Park Tower Penthouse-217 W 57th New Yo...</td>\n",
       "      <td>217 W 57th St, New York, NY 10019, USA</td>\n",
       "      <td>New York, NY 10019</td>\n",
       "      <td>10019</td>\n",
       "      <td>New York County</td>\n",
       "      <td>New York</td>\n",
       "      <td>57th St</td>\n",
       "      <td>40.766393</td>\n",
       "      <td>-73.980991</td>\n",
       "    </tr>\n",
       "    <tr>\n",
       "      <th>2</th>\n",
       "      <td>Sowae Corp</td>\n",
       "      <td>House for sale</td>\n",
       "      <td>260000</td>\n",
       "      <td>4</td>\n",
       "      <td>2</td>\n",
       "      <td>2015</td>\n",
       "      <td>620 Sinclair Ave</td>\n",
       "      <td>620 Sinclair AveStaten Island, NY 10312</td>\n",
       "      <td>620 Sinclair Ave, Staten Island, NY 10312, USA</td>\n",
       "      <td>Staten Island, NY 10312</td>\n",
       "      <td>10312</td>\n",
       "      <td>Richmond County</td>\n",
       "      <td>Staten Island</td>\n",
       "      <td>Sinclair Ave</td>\n",
       "      <td>40.541805</td>\n",
       "      <td>-74.196109</td>\n",
       "    </tr>\n",
       "    <tr>\n",
       "      <th>3</th>\n",
       "      <td>COMPASS</td>\n",
       "      <td>Condo for sale</td>\n",
       "      <td>69000</td>\n",
       "      <td>3</td>\n",
       "      <td>1</td>\n",
       "      <td>445</td>\n",
       "      <td>2 E 55th St Unit 908W33</td>\n",
       "      <td>2 E 55th St Unit 908W33Manhattan, NY 10022</td>\n",
       "      <td>2 E 55th St, New York, NY 10022, USA</td>\n",
       "      <td>Manhattan, NY 10022</td>\n",
       "      <td>10022</td>\n",
       "      <td>New York County</td>\n",
       "      <td>New York</td>\n",
       "      <td>55th St</td>\n",
       "      <td>40.761398</td>\n",
       "      <td>-73.974613</td>\n",
       "    </tr>\n",
       "    <tr>\n",
       "      <th>4</th>\n",
       "      <td>Sotheby's International Realty - East Side Man...</td>\n",
       "      <td>Townhouse for sale</td>\n",
       "      <td>55000000</td>\n",
       "      <td>7</td>\n",
       "      <td>2</td>\n",
       "      <td>14175</td>\n",
       "      <td>5 E 64th St</td>\n",
       "      <td>5 E 64th StNew York, NY 10065</td>\n",
       "      <td>5 E 64th St, New York, NY 10065, USA</td>\n",
       "      <td>New York, NY 10065</td>\n",
       "      <td>10065</td>\n",
       "      <td>New York County</td>\n",
       "      <td>New York</td>\n",
       "      <td>64th St</td>\n",
       "      <td>40.767224</td>\n",
       "      <td>-73.969856</td>\n",
       "    </tr>\n",
       "  </tbody>\n",
       "</table>\n",
       "</div>"
      ],
      "text/plain": [
       "                                         BROKERTITLE                TYPE  \\\n",
       "0                    Douglas Elliman  -111 Fifth Ave      Condo for sale   \n",
       "1                                            Serhant      Condo for sale   \n",
       "2                                         Sowae Corp      House for sale   \n",
       "3                                            COMPASS      Condo for sale   \n",
       "4  Sotheby's International Realty - East Side Man...  Townhouse for sale   \n",
       "\n",
       "       PRICE  BEDS  BATH  PROPERTYSQFT  \\\n",
       "0     315000     2     2          1400   \n",
       "1  195000000     7    10         17545   \n",
       "2     260000     4     2          2015   \n",
       "3      69000     3     1           445   \n",
       "4   55000000     7     2         14175   \n",
       "\n",
       "                                             ADDRESS  \\\n",
       "0                               2 E 55th St Unit 803   \n",
       "1  Central Park Tower Penthouse-217 W 57th New Yo...   \n",
       "2                                   620 Sinclair Ave   \n",
       "3                            2 E 55th St Unit 908W33   \n",
       "4                                        5 E 64th St   \n",
       "\n",
       "                                        MAIN_ADDRESS  \\\n",
       "0             2 E 55th St Unit 803New York, NY 10022   \n",
       "1  Central Park Tower Penthouse-217 W 57th New Yo...   \n",
       "2            620 Sinclair AveStaten Island, NY 10312   \n",
       "3         2 E 55th St Unit 908W33Manhattan, NY 10022   \n",
       "4                      5 E 64th StNew York, NY 10065   \n",
       "\n",
       "                                   FORMATTED_ADDRESS                    STATE  \\\n",
       "0  Regis Residence, 2 E 55th St #803, New York, N...       New York, NY 10022   \n",
       "1             217 W 57th St, New York, NY 10019, USA       New York, NY 10019   \n",
       "2     620 Sinclair Ave, Staten Island, NY 10312, USA  Staten Island, NY 10312   \n",
       "3               2 E 55th St, New York, NY 10022, USA      Manhattan, NY 10022   \n",
       "4               5 E 64th St, New York, NY 10065, USA       New York, NY 10065   \n",
       "\n",
       "     ZIP           COUNTY           CITY      STR_NAME   LATITUDE  LONGITUDE  \n",
       "0  10022  New York County       New York       55th St  40.761255 -73.974483  \n",
       "1  10019  New York County       New York       57th St  40.766393 -73.980991  \n",
       "2  10312  Richmond County  Staten Island  Sinclair Ave  40.541805 -74.196109  \n",
       "3  10022  New York County       New York       55th St  40.761398 -73.974613  \n",
       "4  10065  New York County       New York       64th St  40.767224 -73.969856  "
      ]
     },
     "execution_count": 482,
     "metadata": {},
     "output_type": "execute_result"
    }
   ],
   "source": [
    "data_cl.head()"
   ]
  },
  {
   "cell_type": "code",
   "execution_count": null,
   "metadata": {},
   "outputs": [],
   "source": []
  }
 ],
 "metadata": {
  "kernelspec": {
   "display_name": "Python 3",
   "language": "python",
   "name": "python3"
  },
  "language_info": {
   "codemirror_mode": {
    "name": "ipython",
    "version": 3
   },
   "file_extension": ".py",
   "mimetype": "text/x-python",
   "name": "python",
   "nbconvert_exporter": "python",
   "pygments_lexer": "ipython3",
   "version": "3.11.8"
  }
 },
 "nbformat": 4,
 "nbformat_minor": 2
}
